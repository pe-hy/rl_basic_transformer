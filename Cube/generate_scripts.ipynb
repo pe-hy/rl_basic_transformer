{
 "cells": [
  {
   "cell_type": "code",
   "execution_count": 32,
   "metadata": {},
   "outputs": [
    {
     "name": "stdout",
     "output_type": "stream",
     "text": [
      "source activate rl\n",
      "CUDA_VISIBLE_DEVICES=1 parallel python train.py --batch_size 64 --vocab_size 106 --block_size 20 --n_embd 96 --n_hidden 16 --datapath /mnt/raid/data/Hyner_Petr/rl/rl_basic_transformer/Data/new_data_only_triples_nn_old.pkl --n_iters {1} --init_bottleneck_by_last {2} ::: 1 2 3 4 ::: True False\n",
      "\n",
      "Bash script 'run_parallel_experiments.sh' has been generated.\n"
     ]
    }
   ],
   "source": [
    "params = {\n",
    "    'batch_size': 64,\n",
    "    'vocab_size': 106,\n",
    "    'block_size': 20,\n",
    "    'n_iters': [1, 2, 3, 4],\n",
    "    'n_embd': 96,\n",
    "    'n_hidden': 16,\n",
    "    'init_bottleneck_by_last': ['True', 'False'],\n",
    "    'datapath': '/mnt/raid/data/Hyner_Petr/rl/rl_basic_transformer/Data/new_data_only_triples_nn_old.pkl'\n",
    "}\n",
    "\n",
    "command = f\"source activate rl\\n\"\n",
    "command += f\"CUDA_VISIBLE_DEVICES=1 parallel python train.py \"\n",
    "command += f\"--batch_size {params['batch_size']} \"\n",
    "command += f\"--vocab_size {params['vocab_size']} \"\n",
    "command += f\"--block_size {params['block_size']} \"\n",
    "command += f\"--n_embd {params['n_embd']} \"\n",
    "command += f\"--n_hidden {params['n_hidden']} \"\n",
    "command += f\"--datapath {params['datapath']} \"\n",
    "command += f\"--n_iters {{1}} --init_bottleneck_by_last {{2}} \"\n",
    "command += f\"::: {' '.join(map(str, params['n_iters']))} ::: {' '.join(params['init_bottleneck_by_last'])}\"\n",
    "\n",
    "print(command)\n",
    "\n",
    "# Save to a file\n",
    "with open(\"run_parallel_experiments.sh\", \"w\") as f:\n",
    "    f.write(command)\n",
    "\n",
    "print(\"\\nBash script 'run_parallel_experiments.sh' has been generated.\")"
   ]
  },
  {
   "cell_type": "code",
   "execution_count": null,
   "metadata": {},
   "outputs": [],
   "source": []
  }
 ],
 "metadata": {
  "kernelspec": {
   "display_name": "rl",
   "language": "python",
   "name": "python3"
  },
  "language_info": {
   "codemirror_mode": {
    "name": "ipython",
    "version": 3
   },
   "file_extension": ".py",
   "mimetype": "text/x-python",
   "name": "python",
   "nbconvert_exporter": "python",
   "pygments_lexer": "ipython3",
   "version": "3.11.9"
  }
 },
 "nbformat": 4,
 "nbformat_minor": 2
}
