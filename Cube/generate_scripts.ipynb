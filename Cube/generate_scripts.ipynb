{
 "cells": [
  {
   "cell_type": "code",
   "execution_count": 3,
   "metadata": {},
   "outputs": [
    {
     "name": "stdout",
     "output_type": "stream",
     "text": [
      "source activate rl\n",
      "CUDA_VISIBLE_DEVICES=2 parallel python train.py --batch_size 512 --vocab_size 577 --block_size 65 --n_embd 768 --n_hidden 64 --datapath /mnt/raid/data/Hyner_Petr/rl/rl_basic_transformer/Data/data_cube.pkl --n_iters {1} --init_bottleneck_by_last {2} --divider {3} ::: 2 ::: True ::: 8\n",
      "\n",
      "Bash script 'run_parallel_experiments.sh' has been generated.\n"
     ]
    }
   ],
   "source": [
    "params = {\n",
    "    'batch_size': 512,\n",
    "    'vocab_size': 577,\n",
    "    'block_size': 65,\n",
    "    'n_iters': [2],\n",
    "    'n_embd': 768,\n",
    "    'n_hidden': 64,\n",
    "    'init_bottleneck_by_last': ['True'],\n",
    "    'datapath': '/mnt/raid/data/Hyner_Petr/rl/rl_basic_transformer/Data/data_cube.pkl',\n",
    "    'divider': [8]\n",
    "}\n",
    "\n",
    "command = f\"source activate rl\\n\"\n",
    "command += f\"CUDA_VISIBLE_DEVICES=2 parallel python train.py \"\n",
    "command += f\"--batch_size {params['batch_size']} \"\n",
    "command += f\"--vocab_size {params['vocab_size']} \"\n",
    "command += f\"--block_size {params['block_size']} \"\n",
    "command += f\"--n_embd {params['n_embd']} \"\n",
    "command += f\"--n_hidden {params['n_hidden']} \"\n",
    "command += f\"--datapath {params['datapath']} \"\n",
    "command += f\"--n_iters {{1}} --init_bottleneck_by_last {{2}} --divider {{3}}\"\n",
    "command += f\" ::: {' '.join(map(str, params['n_iters']))} ::: {' '.join(params['init_bottleneck_by_last']) } ::: {' '.join(map(str, params['divider']))}\"\n",
    "\n",
    "print(command)\n",
    "\n",
    "# Save to a file\n",
    "with open(\"run_parallel_experiments_cube.sh\", \"w\") as f:\n",
    "    f.write(command)\n",
    "\n",
    "print(\"\\nBash script 'run_parallel_experiments.sh' has been generated.\")"
   ]
  },
  {
   "cell_type": "code",
   "execution_count": null,
   "metadata": {},
   "outputs": [],
   "source": []
  }
 ],
 "metadata": {
  "kernelspec": {
   "display_name": "rl",
   "language": "python",
   "name": "python3"
  },
  "language_info": {
   "codemirror_mode": {
    "name": "ipython",
    "version": 3
   },
   "file_extension": ".py",
   "mimetype": "text/x-python",
   "name": "python",
   "nbconvert_exporter": "python",
   "pygments_lexer": "ipython3",
   "version": "3.11.9"
  }
 },
 "nbformat": 4,
 "nbformat_minor": 2
}
