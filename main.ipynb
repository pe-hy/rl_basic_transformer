{
 "cells": [
  {
   "cell_type": "code",
   "execution_count": null,
   "metadata": {},
   "outputs": [],
   "source": [
    "# embedding matice má v řádcích embeddingy (1 řádek - 1 token)\n",
    "# vizualizovat umapem a olabelovat páry\n",
    "\n",
    "# forknout honzovo repo a tam dát moje změny"
   ]
  }
 ],
 "metadata": {
  "language_info": {
   "name": "python"
  }
 },
 "nbformat": 4,
 "nbformat_minor": 2
}
