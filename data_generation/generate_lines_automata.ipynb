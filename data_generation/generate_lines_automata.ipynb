{
 "cells": [
  {
   "cell_type": "markdown",
   "metadata": {},
   "source": [
    " ## preparation of the decomposed automaton"
   ]
  },
  {
   "cell_type": "code",
   "execution_count": null,
   "metadata": {},
   "outputs": [],
   "source": [
    "# generate n chains of length m, where n and m are given by the user, default n = 5, m = 10\n",
    "# fix some order of the chains\n",
    "# add dependencies on the edges such that the edge of one chain depends on the states of later chains (not the previous ones in the fixed order)\n",
    "# the number of states on which a given edge depends is chosen uniformly from {0,1, 2, 3}..if there are multiple states, they need to be from different chains.\n"
   ]
  },
  {
   "cell_type": "markdown",
   "metadata": {},
   "source": [
    "## creation of 1 sample problem"
   ]
  },
  {
   "cell_type": "code",
   "execution_count": null,
   "metadata": {},
   "outputs": [],
   "source": [
    "# for the fixed order of chains, create a vector of states for each chain. states in different chains are chosen randomly.\n",
    "# choose 1 chain as the target chain\n",
    "# choose a random target state in the target chain\n",
    "# the result is sample = {\"input\": vector of states, \"target\": target state, \"target chain\": target chain}"
   ]
  },
  {
   "cell_type": "markdown",
   "metadata": {},
   "source": [
    "## implementation of the solver"
   ]
  },
  {
   "cell_type": "code",
   "execution_count": null,
   "metadata": {},
   "outputs": [],
   "source": [
    "def solve(sample,path=[]):\n",
    "    target_chain = sample[\"target chain\"]\n",
    "    target_state = sample[\"target\"]\n",
    "    current_state = sample[\"input\"]\n",
    "    # for the target chain, find all shortest paths from the current state to the target state\n",
    "    # take the first path and try to traverse it. ie iterate over the edges and do the following:\n",
    "    # # if the edge is not dependent on other states:\n",
    "    # # # cross the edge, i.e. change the current state for the target chain to get one more step closer to the target state\n",
    "    # # # path.append(edge)\n",
    "    # # else get the dependency states, depenendet = edge['enabling']\n",
    "    # # for each dependency state, do the following:\n",
    "    # # # new_sample = {}\n",
    "    # # # new_sample['input_states'] = current_state\n",
    "    # # # new_sample[\"target\"] = dependency_state\n",
    "    # # # new_sample['target chain'] = chain of the dependency state\n",
    "    # # # path, current_state = solve(new_sample,path)\n",
    "    # # after each dependency states are resolved, cross the edge and append it to the path and change the current state\n",
    "    # after the shortest path to the target state if traversed, return the path and the current state"
   ]
  }
 ],
 "metadata": {
  "language_info": {
   "name": "python"
  }
 },
 "nbformat": 4,
 "nbformat_minor": 2
}
