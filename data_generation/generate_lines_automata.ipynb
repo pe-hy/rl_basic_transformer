{
 "cells": [
  {
   "cell_type": "markdown",
   "metadata": {},
   "source": [
    " ## preparation of the decomposed automaton"
   ]
  },
  {
   "cell_type": "code",
   "execution_count": 62,
   "metadata": {},
   "outputs": [],
   "source": [
    "# generate n chains of length m, where n and m are given by the user, default n = 5, m = 10\n",
    "# fix some order of the chains\n",
    "# add dependencies on the edges such that the edge of one chain depends on the states of later chains (not the previous ones in the fixed order)\n",
    "# the number of states on which a given edge depends is chosen uniformly from {0,1, 2, 3}..if there are multiple states, they need to be from different chains.\n",
    "\n",
    "import networkx as nx\n",
    "import matplotlib.pyplot as plt\n",
    "from collections import defaultdict\n",
    "import random\n",
    "\n",
    "def gen_chains(n=5, m=10):\n",
    "    chains = defaultdict(list)\n",
    "\n",
    "    for i in range(n):\n",
    "        G = nx.Graph()\n",
    "        nodes = [j for j in range(m)]\n",
    "        edges = list(zip(nodes[:-1], nodes[1:]))\n",
    "\n",
    "        G.add_edges_from(edges)\n",
    "        chains[i] = G\n",
    "\n",
    "    return chains\n",
    "\n",
    "def add_enabling(chains):\n",
    "    n = len(chains)\n",
    "    \n",
    "    for chain_id in range(n-1):\n",
    "        G = chains[chain_id]\n",
    "        \n",
    "        for edge in G.edges():\n",
    "            if random.random() < 0.5:\n",
    "                num_deps = random.randint(0, 3)\n",
    "                \n",
    "                if num_deps > 0:\n",
    "                    later_chains = list(range(chain_id + 1, n))\n",
    "                    selected_chains = random.sample(later_chains, min(num_deps, len(later_chains)))\n",
    "                    \n",
    "                    enabling_conditions = []\n",
    "                    for enabling_chain in selected_chains:\n",
    "                        enabling_G = chains[enabling_chain]\n",
    "                        enabling_node = random.choice(list(enabling_G.nodes()))\n",
    "                        enabling_conditions.append({'automata_id':enabling_chain,'node_id':enabling_node})\n",
    "                    \n",
    "                    G.edges[edge]['enabling'] = enabling_conditions\n",
    "    \n",
    "    return chains\n",
    "\n",
    "chains = add_enabling(gen_chains())"
   ]
  },
  {
   "cell_type": "code",
   "execution_count": 63,
   "metadata": {},
   "outputs": [
    {
     "name": "stdout",
     "output_type": "stream",
     "text": [
      "\n",
      "Chain 0:\n",
      "Edge 0 -> 1: {}\n",
      "Edge 1 -> 2: {'enabling': [{'automata_id': 3, 'node_id': 1}, {'automata_id': 2, 'node_id': 6}]}\n",
      "Edge 2 -> 3: {'enabling': [{'automata_id': 3, 'node_id': 4}, {'automata_id': 4, 'node_id': 9}, {'automata_id': 2, 'node_id': 3}]}\n",
      "Edge 3 -> 4: {}\n",
      "Edge 4 -> 5: {}\n",
      "Edge 5 -> 6: {}\n",
      "Edge 6 -> 7: {'enabling': [{'automata_id': 3, 'node_id': 9}, {'automata_id': 2, 'node_id': 8}, {'automata_id': 1, 'node_id': 2}]}\n",
      "Edge 7 -> 8: {}\n",
      "Edge 8 -> 9: {}\n",
      "\n",
      "Chain 1:\n",
      "Edge 0 -> 1: {}\n",
      "Edge 1 -> 2: {}\n",
      "Edge 2 -> 3: {}\n",
      "Edge 3 -> 4: {}\n",
      "Edge 4 -> 5: {'enabling': [{'automata_id': 2, 'node_id': 7}, {'automata_id': 3, 'node_id': 3}, {'automata_id': 4, 'node_id': 3}]}\n",
      "Edge 5 -> 6: {}\n",
      "Edge 6 -> 7: {}\n",
      "Edge 7 -> 8: {}\n",
      "Edge 8 -> 9: {'enabling': [{'automata_id': 2, 'node_id': 7}, {'automata_id': 4, 'node_id': 8}, {'automata_id': 3, 'node_id': 5}]}\n",
      "\n",
      "Chain 2:\n",
      "Edge 0 -> 1: {'enabling': [{'automata_id': 3, 'node_id': 1}]}\n",
      "Edge 1 -> 2: {'enabling': [{'automata_id': 3, 'node_id': 4}, {'automata_id': 4, 'node_id': 0}]}\n",
      "Edge 2 -> 3: {}\n",
      "Edge 3 -> 4: {}\n",
      "Edge 4 -> 5: {'enabling': [{'automata_id': 4, 'node_id': 8}]}\n",
      "Edge 5 -> 6: {'enabling': [{'automata_id': 4, 'node_id': 1}, {'automata_id': 3, 'node_id': 1}]}\n",
      "Edge 6 -> 7: {}\n",
      "Edge 7 -> 8: {'enabling': [{'automata_id': 4, 'node_id': 3}, {'automata_id': 3, 'node_id': 3}]}\n",
      "Edge 8 -> 9: {}\n",
      "\n",
      "Chain 3:\n",
      "Edge 0 -> 1: {}\n",
      "Edge 1 -> 2: {}\n",
      "Edge 2 -> 3: {}\n",
      "Edge 3 -> 4: {'enabling': [{'automata_id': 4, 'node_id': 1}]}\n",
      "Edge 4 -> 5: {}\n",
      "Edge 5 -> 6: {}\n",
      "Edge 6 -> 7: {}\n",
      "Edge 7 -> 8: {}\n",
      "Edge 8 -> 9: {'enabling': [{'automata_id': 4, 'node_id': 3}]}\n",
      "\n",
      "Chain 4:\n",
      "Edge 0 -> 1: {}\n",
      "Edge 1 -> 2: {}\n",
      "Edge 2 -> 3: {}\n",
      "Edge 3 -> 4: {}\n",
      "Edge 4 -> 5: {}\n",
      "Edge 5 -> 6: {}\n",
      "Edge 6 -> 7: {}\n",
      "Edge 7 -> 8: {}\n",
      "Edge 8 -> 9: {}\n"
     ]
    }
   ],
   "source": [
    "for chain_id in range(len(chains)):\n",
    "    print(f\"\\nChain {chain_id}:\")\n",
    "    G = chains[chain_id]\n",
    "    for edge in G.edges(data=True):\n",
    "        print(f\"Edge {edge[0]} -> {edge[1]}: {edge[2]}\")"
   ]
  },
  {
   "cell_type": "markdown",
   "metadata": {},
   "source": [
    "## creation of 1 sample problem"
   ]
  },
  {
   "cell_type": "code",
   "execution_count": null,
   "metadata": {},
   "outputs": [],
   "source": [
    "# for the fixed order of chains, create a vector of states for each chain. states in different chains are chosen randomly.\n",
    "# choose 1 chain as the target chain\n",
    "# choose a random target state in the target chain\n",
    "# the result is sample = {\"input\": vector of states, \"target\": target state, \"target chain\": target chain}"
   ]
  },
  {
   "cell_type": "code",
   "execution_count": null,
   "metadata": {},
   "outputs": [],
   "source": [
    "def get_vectors(chains):\n",
    "    pass"
   ]
  },
  {
   "cell_type": "markdown",
   "metadata": {},
   "source": [
    "## implementation of the solver"
   ]
  },
  {
   "cell_type": "code",
   "execution_count": null,
   "metadata": {},
   "outputs": [],
   "source": [
    "def solve(sample,path=[]):\n",
    "    target_chain = sample[\"target chain\"]\n",
    "    target_state = sample[\"target\"]\n",
    "    current_state = sample[\"input\"]\n",
    "    # for the target chain, find all shortest paths from the current state to the target state\n",
    "    # take the first path and try to traverse it. ie iterate over the edges and do the following:\n",
    "    # # if the edge is not dependent on other states:\n",
    "    # # # cross the edge, i.e. change the current state for the target chain to get one more step closer to the target state\n",
    "    # # # path.append(edge)\n",
    "    # # else get the dependency states, depenendet = edge['enabling']\n",
    "    # # for each dependency state, do the following:\n",
    "    # # # new_sample = {}\n",
    "    # # # new_sample['input_states'] = current_state\n",
    "    # # # new_sample[\"target\"] = dependency_state\n",
    "    # # # new_sample['target chain'] = chain of the dependency state\n",
    "    # # # path, current_state = solve(new_sample,path)\n",
    "    # # after each dependency states are resolved, cross the edge and append it to the path and change the current state\n",
    "    # after the shortest path to the target state if traversed, return the path and the current state"
   ]
  }
 ],
 "metadata": {
  "kernelspec": {
   "display_name": "rl",
   "language": "python",
   "name": "python3"
  },
  "language_info": {
   "codemirror_mode": {
    "name": "ipython",
    "version": 3
   },
   "file_extension": ".py",
   "mimetype": "text/x-python",
   "name": "python",
   "nbconvert_exporter": "python",
   "pygments_lexer": "ipython3",
   "version": "3.11.9"
  }
 },
 "nbformat": 4,
 "nbformat_minor": 2
}
